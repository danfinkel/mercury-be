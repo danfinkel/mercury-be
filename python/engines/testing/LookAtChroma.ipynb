{
 "cells": [
  {
   "cell_type": "code",
   "execution_count": 1,
   "id": "64ff08a1-a99d-47dd-9067-9c6aca13d88b",
   "metadata": {},
   "outputs": [],
   "source": [
    "import chromadb\n",
    "from chromadb.config import Settings\n",
    "import pickle\n",
    "import os"
   ]
  },
  {
   "cell_type": "code",
   "execution_count": 8,
   "id": "8c0141de-c9f7-4006-803b-697047c634db",
   "metadata": {},
   "outputs": [
    {
     "name": "stdout",
     "output_type": "stream",
     "text": [
      "/Users/danfinkel/github/mercury-be/python/engines/testing\n"
     ]
    }
   ],
   "source": [
    "!pwd"
   ]
  },
  {
   "cell_type": "code",
   "execution_count": 2,
   "id": "0d0e5e2a-bd3b-4900-9fa3-fe99830f8407",
   "metadata": {},
   "outputs": [],
   "source": [
    "path_to_db_dir = \"/Users/danfinkel/github/mercury-be/tmp/teachable_agent_db\"\n",
    "settings = Settings(\n",
    "    anonymized_telemetry=False, \n",
    "    allow_reset=True, \n",
    "    is_persistent=True, \n",
    "    persist_directory=path_to_db_dir\n",
    ")"
   ]
  },
  {
   "cell_type": "code",
   "execution_count": 3,
   "id": "ae4c7a3f-a85e-4fd5-a9a6-6316af92b3e6",
   "metadata": {},
   "outputs": [],
   "source": [
    "db_client = chromadb.Client(settings)"
   ]
  },
  {
   "cell_type": "code",
   "execution_count": 4,
   "id": "7e82fcd3-d501-46e2-9977-da347c7da5de",
   "metadata": {},
   "outputs": [],
   "source": [
    "vec_db = db_client.create_collection(\"memos\", get_or_create=True) "
   ]
  },
  {
   "cell_type": "code",
   "execution_count": 5,
   "id": "0a288740-6561-4f46-87e7-b9e29f1a4c05",
   "metadata": {},
   "outputs": [
    {
     "data": {
      "text/plain": [
       "{'ids': ['1'],\n",
       " 'embeddings': None,\n",
       " 'metadatas': [None],\n",
       " 'documents': ['Time-window enforced causality for accurate ad lift measurement.'],\n",
       " 'uris': None,\n",
       " 'data': None}"
      ]
     },
     "execution_count": 5,
     "metadata": {},
     "output_type": "execute_result"
    }
   ],
   "source": [
    "vec_db.get()"
   ]
  },
  {
   "cell_type": "code",
   "execution_count": 6,
   "id": "8c74255a-15f0-49ff-876f-4644e65b52ec",
   "metadata": {},
   "outputs": [],
   "source": [
    "def list_memos():\n",
    "    \"\"\"Prints the contents of MemoStore.\"\"\"\n",
    "    print(\"LIST OF MEMOS\")\n",
    "    for uid, text in uid_text_dict.items():\n",
    "        input_text, output_text = text\n",
    "        print(\n",
    "                \"  ID: {}\\n    INPUT TEXT: {}\\n    OUTPUT TEXT: {}\".format(uid, input_text, output_text),\n",
    "            )"
   ]
  },
  {
   "cell_type": "code",
   "execution_count": 7,
   "id": "1ff4df5b-9b69-42de-8fbc-7abfeffb31a0",
   "metadata": {},
   "outputs": [
    {
     "name": "stdout",
     "output_type": "stream",
     "text": [
      "\n",
      "LOADING MEMORY FROM DISK\n",
      "    Location = /Users/danfinkel/github/mercury-be/tmp/teachable_agent_db/uid_text_dict.pkl\n",
      "LIST OF MEMOS\n",
      "  ID: 1\n",
      "    INPUT TEXT: Time-window enforced causality for accurate ad lift measurement.\n",
      "    OUTPUT TEXT: Understanding Causality and Conversion Windows:\n",
      "\n",
      "1. Causality in Time-Series Analysis:\n",
      "    - Define causality as the relationship between ad exposure and subsequent conversion.\n",
      "    - Conversion windows create a causal link by attributing conversions to ads only if they fall within this defined period post-exposure.\n",
      "\n",
      "2. Defining Conversion Windows:\n",
      "    - A conversion window is the timeframe post-ad exposure during which a conversion is considered caused by the ad, such as 7 days.\n",
      "\n",
      "Data Preparation and SQL Queries:\n",
      "\n",
      "3. SQL for Data Extraction:\n",
      "    - Craft SQL queries that extract ad exposure and conversion events, using window functions to attribute conversions to the correct exposure timeframe.\n",
      "\n",
      "```sql\n",
      "SELECT \n",
      "    user_id,\n",
      "    ad_exposure_date,\n",
      "    conversion_date,\n",
      "    CASE\n",
      "        WHEN DATEDIFF(conversion_date, ad_exposure_date) BETWEEN 0 AND 7 THEN 1\n",
      "        ELSE 0\n",
      "    END AS is_within_conversion_window\n",
      "FROM \n",
      "    Exposures e\n",
      "LEFT JOIN \n",
      "    Conversions c ON e.user_id = c.user_id\n",
      "WHERE c.conversion_date >= e.ad_exposure_date;\n",
      "```\n",
      "\n",
      "Using Python for Time-Window Analysis:\n",
      "\n",
      "4. Calculating Conversion Rates with Python:\n",
      "    - Process SQL output in Pandas to calculate daily conversion rates accounting for the conversion window, grouping by exposure dates.\n",
      "\n",
      "```python\n",
      "import pandas as pd\n",
      "\n",
      "# Assuming 'df' is a DataFrame containing the SQL query results\n",
      "df['conversion_flag'] = df.apply(lambda x: 1 if 0 <= x['days_to_conversion'] <= 7 else 0, axis=1)\n",
      "\n",
      "# Calculate daily conversion rates within the window\n",
      "conversion_rates = df.groupby('ad_exposure_date')['conversion_flag'].mean()\n",
      "```\n",
      "\n",
      "5. Visualizing and Interpreting Results:\n",
      "    - Use visualizations to present conversion rates and windows, aiding interpretation and communication of results.\n",
      "\n",
      "Ensuring Statistical Rigor:\n",
      "\n",
      "6. Causal Inference Techniques:\n",
      "    - Apply methods like differences-in-differences (DiD) to compare conversion rates with and without ad exposure within the window to establish causality.\n",
      "\n",
      "7. Testing And Validation:\n",
      "    - Employ holdout groups and A/B testing to confirm the validity of the conversion window's assumptions and identifications of causal effects.\n",
      "\n",
      "Automation and Code Quality:\n",
      "\n",
      "8. Code Reusability and Functions:\n",
      "    - Encourage the use of Python functions for flexibility, passing parameters like the conversion window size for various calculations.\n",
      "\n",
      "```python\n",
      "def calculate_conversion_rate(df, conversion_window):\n",
      "    # Calculation logic here...\n",
      "    return conversion_rate_within_window\n",
      "```\n",
      "\n",
      "9. Maintaining Code Quality:\n",
      "    - Stress the need for following coding best practices such as commenting and maintaining clean code for readability and maintenance.\n",
      "\n",
      "Final Thoughts:\n",
      "\n",
      "10. Continuous Learning and Adaptation:\n",
      "    - Recommend that the data scientist remain adaptable to changing behaviors in adtech and update methods as necessary.\n",
      "\n",
      "11. Ethical and Privacy Considerations:\n",
      "    - Remind the data scientist about the significance of ethical data handling and privacy adherence, especially with time-series data.\n"
     ]
    }
   ],
   "source": [
    "reset = False\n",
    "\n",
    "path_to_dict = os.path.join(\"/Users/danfinkel/github/mercury-be/tmp/teachable_agent_db\", \"uid_text_dict.pkl\")\n",
    "uid_text_dict = {}\n",
    "last_memo_id = 0\n",
    "if (not reset) and os.path.exists(path_to_dict):\n",
    "    print(\"\\nLOADING MEMORY FROM DISK\")\n",
    "    print(\"    Location = {}\".format(path_to_dict))\n",
    "    with open(path_to_dict, \"rb\") as f:\n",
    "        uid_text_dict = pickle.load(f)\n",
    "        last_memo_id = len(uid_text_dict)\n",
    "        list_memos()"
   ]
  },
  {
   "cell_type": "code",
   "execution_count": null,
   "id": "0cb1e160-f8ee-4b02-a236-80bc5eeddb89",
   "metadata": {},
   "outputs": [],
   "source": []
  },
  {
   "cell_type": "code",
   "execution_count": null,
   "id": "0bccf124-c63e-49c8-944a-17d73266dfc2",
   "metadata": {},
   "outputs": [],
   "source": []
  }
 ],
 "metadata": {
  "kernelspec": {
   "display_name": "Python 3 (ipykernel)",
   "language": "python",
   "name": "python3"
  },
  "language_info": {
   "codemirror_mode": {
    "name": "ipython",
    "version": 3
   },
   "file_extension": ".py",
   "mimetype": "text/x-python",
   "name": "python",
   "nbconvert_exporter": "python",
   "pygments_lexer": "ipython3",
   "version": "3.9.13"
  }
 },
 "nbformat": 4,
 "nbformat_minor": 5
}
