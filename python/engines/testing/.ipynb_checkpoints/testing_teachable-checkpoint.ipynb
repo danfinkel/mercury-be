{
 "cells": [
  {
   "cell_type": "markdown",
   "id": "a23009d2-cd5f-4f1f-aff0-e1635f52b466",
   "metadata": {},
   "source": [
    "# Testing Teachable Assistent"
   ]
  },
  {
   "cell_type": "code",
   "execution_count": 1,
   "id": "0215a2c3-fbea-4710-a251-6e9f72b3ab1e",
   "metadata": {},
   "outputs": [],
   "source": [
    "from python.tools.teachable import Teachable_Turbo4\n",
    "import json"
   ]
  },
  {
   "cell_type": "code",
   "execution_count": 2,
   "id": "94479fb8-b12e-4b08-a291-eaf8d1657567",
   "metadata": {
    "scrolled": true
   },
   "outputs": [
    {
     "name": "stdout",
     "output_type": "stream",
     "text": [
      "get_or_create_assistant(memo_aide, gpt-4-1106-preview)\n",
      "set_instructions()\n",
      "make_thread()\n"
     ]
    }
   ],
   "source": [
    "student_name = 'testing'\n",
    "roger = Teachable_Turbo4()"
   ]
  },
  {
   "cell_type": "code",
   "execution_count": 3,
   "id": "6d1e95bc-facb-4d41-a1ea-c9b5779acb98",
   "metadata": {},
   "outputs": [
    {
     "name": "stdout",
     "output_type": "stream",
     "text": [
      "get_or_create_assistant(testing, gpt-4-1106-preview)\n",
      "set_instructions()\n",
      "make_thread()\n"
     ]
    }
   ],
   "source": [
    "roger, status_msg = roger.get_or_create_assistant(student_name)\n",
    "\n",
    "roger, instruct_msg = roger.set_instructions(\"You are an assistant data scientist that specializes in adtech measurement. We are going to work together to build some detailed descriptions of common measurement tasks in advertising tech. Our goal is to create descriptions that will help future AI assistants when the user provides vague or incomplete prompts.\")\n",
    "\n",
    "roger = roger.make_thread() "
   ]
  },
  {
   "cell_type": "code",
   "execution_count": 5,
   "id": "16e12358-99c6-41da-bed1-913d6555afd4",
   "metadata": {},
   "outputs": [],
   "source": [
    "prompt = \"\"\"\n",
    "Hello. I want to understand the best way to measure time-series lift. My goal is develop best practices for writing python and SQL scripts that create time-series lift measurements using windows to create conversion rates. Do you have any suggestions?\n",
    "\"\"\""
   ]
  },
  {
   "cell_type": "code",
   "execution_count": 6,
   "id": "9a14219e-a0a5-471a-914b-12d2f62e760e",
   "metadata": {
    "scrolled": true
   },
   "outputs": [
    {
     "name": "stdout",
     "output_type": "stream",
     "text": [
      "add_message(\n",
      "Hello. I want to understand the best way to measure time-series lift. My goal is develop best practices for writing python and SQL scripts that create time-series lift measurements using windows to create conversion rates. Do you have any suggestions?\n",
      ")\n"
     ]
    }
   ],
   "source": [
    "roger, prompt_msg = roger.add_message(prompt)"
   ]
  },
  {
   "cell_type": "code",
   "execution_count": 7,
   "id": "1ecf97e5-98d2-4f20-a528-b38d25ad2852",
   "metadata": {},
   "outputs": [
    {
     "name": "stdout",
     "output_type": "stream",
     "text": [
      "{'user': 'sys_admin', 'assistant_id': 'asst_KIwqLLUtA63FWv3kghSYiJVV', 'thread_id': 'thread_DIV421nwwCzbng6lyoGovJwl', 'content': '\\nHello. I want to understand the best way to measure time-series lift. My goal is develop best practices for writing python and SQL scripts that create time-series lift measurements using windows to create conversion rates. Do you have any suggestions?\\n'}\n",
      "\n"
     ]
    }
   ],
   "source": [
    "print(prompt_msg)\n",
    "# print(json.loads(prompt_msg)[\"content\"])\n",
    "# print(prompt_msg.split(\"content\")[1].split('}\\n')[0])"
   ]
  },
  {
   "cell_type": "code",
   "execution_count": 8,
   "id": "1c78fb4c-9ff3-4170-af36-a5fcfc2de934",
   "metadata": {},
   "outputs": [
    {
     "name": "stdout",
     "output_type": "stream",
     "text": [
      "run_thread(None)\n"
     ]
    }
   ],
   "source": [
    "roger, new_msgs = roger.run_thread()"
   ]
  },
  {
   "cell_type": "code",
   "execution_count": 9,
   "id": "e344ff0f-cefb-462b-9046-b7325315b022",
   "metadata": {},
   "outputs": [
    {
     "name": "stdout",
     "output_type": "stream",
     "text": [
      "Certainly! Measuring time-series lift in the context of advertising technology typically involves comparing the conversion rates of a target group exposed to an ad campaign with a control group that was not exposed, over the same time period. By analyzing how the conversion rate fluctuates over time for these groups, you can infer the incremental impact of the advertising campaign.\n",
      "\n",
      "Here are some steps for creating time-series lift measurements using Python and SQL:\n",
      "\n",
      "### 1. Define Conversion and Exposure Windows\n",
      "The first step is to establish the timeframe over which you'll measure conversions and ad exposures. A conversion window is the timeframe after an ad impression during which a conversion (such as a sale or signup) is considered to be influenced by the ad. The exposure window is the timeframe during which the ad impressions are counted.\n",
      "\n",
      "### 2. Collect Data\n",
      "You need to gather your data. This often includes:\n",
      "- Timestamps of ad exposures for the control and target groups\n",
      "- Timestamps of conversions for these groups\n",
      "- Demographic or behavioral data to ensure the groups are comparable\n",
      "\n",
      "### SQL Example for Data Collection:\n",
      "```sql\n",
      "SELECT user_id, ad_exposure_time, conversion_time, group_type\n",
      "FROM campaign_data\n",
      "WHERE campaign_date BETWEEN start_date AND end_date;\n",
      "```\n",
      "\n",
      "### 3. Clean and Preprocess Data\n",
      "Ensure the data is clean: handle missing values, outliers, and ensure correct types for timestamps. This task is often better done using Python with libraries such as pandas.\n",
      "\n",
      "### Python Example for Preprocessing:\n",
      "```python\n",
      "import pandas as pd\n",
      "\n",
      "# Load data into a DataFrame\n",
      "df = pd.read_sql_query(sql_query, connection)\n",
      "\n",
      "# Convert timestamps to datetime objects\n",
      "df['ad_exposure_time'] = pd.to_datetime(df['ad_exposure_time'])\n",
      "df['conversion_time'] = pd.to_datetime(df['conversion_time'])\n",
      "\n",
      "# Filter out conversions that do not fall within the conversion window and other preprocessing tasks as needed\n",
      "```\n",
      "\n",
      "### 4. Create Time Bins\n",
      "You will need to divide the time series into bins or intervals (e.g., hours, days, weeks) to calculate conversion rates over those timeframes.\n",
      "\n",
      "### Python Example for Time Bins:\n",
      "```python\n",
      "# Let's say you want to analyze by day\n",
      "df['ad_exposure_day'] = df['ad_exposure_time'].dt.to_period('D')\n",
      "df['conversion_day'] = df['conversion_time'].dt.to_period('D')\n",
      "```\n",
      "\n",
      "### 5. Calculate Conversion Rates\n",
      "For each time bin, calculate the conversion rate for both the control and target groups. You'll want to perform this calculation separately for each group and within each time bin.\n",
      "\n",
      "### SQL Example for Calculating Conversion Rates:\n",
      "```sql\n",
      "SELECT ad_exposure_day, group_type,\n",
      "       COUNT(DISTINCT case when conversion_time IS NOT NULL then user_id end) /\n",
      "       COUNT(DISTINCT user_id) AS conversion_rate\n",
      "FROM campaign_data\n",
      "GROUP BY ad_exposure_day, group_type;\n",
      "```\n",
      "\n",
      "### 6. Calculate Lift\n",
      "Lift is typically expressed as the percentage increase in conversion rate of the target group compared to the control group.\n",
      "\n",
      "### Python Example to Calculate Lift:\n",
      "```python\n",
      "# Group by time bin and calculate the conversion rates for each group\n",
      "conversion_rates = df.groupby(['ad_exposure_day', 'group_type']).apply(calc_conversion_rate)\n",
      "\n",
      "# Pivot the table to have time bins on the rows and groups as columns\n",
      "pivot_table = conversion_rates.unstack('group_type')\n",
      "\n",
      "# Calculate lift\n",
      "pivot_table['lift'] = (pivot_table['target'] - pivot_table['control']) / pivot_table['control'] * 100\n",
      "```\n",
      "\n",
      "### 7. Statistical Significance\n",
      "Assess the statistical significance of the observed lift to ensure that the observed differences are not due to random chance.\n",
      "\n",
      "### Python Example for Statistical Significance:\n",
      "```python\n",
      "from scipy import stats\n",
      "\n",
      "# Assume 'target_rates' and 'control_rates' are arrays of conversion rates for target and control groups\n",
      "t_stat, p_value = stats.ttest_ind(target_rates, control_rates, equal_var=False)\n",
      "\n",
      "# Check if the p-value is less than the threshold (commonly 0.05 for 95% confidence)\n",
      "if p_value < 0.05:\n",
      "    print(\"The lift is statistically significant.\")\n",
      "else:\n",
      "    print(\"The lift is not statistically significant.\")\n",
      "```\n",
      "\n",
      "### 8. Visualize Time-series Lift\n",
      "Use Python libraries like matplotlib or seaborn to create visualizations of the lift over time.\n",
      "\n",
      "### Python Example for Visualization:\n",
      "```python\n",
      "import matplotlib.pyplot as plt\n",
      "\n",
      "pivot_table[['control', 'target', 'lift']].plot(kind='line', figsize=(10,5))\n",
      "plt.title('Time-Series Lift Analysis')\n",
      "plt.ylabel('Conversion Rate (%)')\n",
      "plt.xlabel('Time Bin')\n",
      "plt.show()\n",
      "```\n",
      "\n",
      "### 9. Iteration and Automation\n",
      "Refine your methods to handle any edge cases or anomalies you might encounter. Automate your script to run periodically (daily, weekly, monthly), depending on the needs of your ad measurement.\n",
      "\n",
      "### 10. Documentation and Best Practices\n",
      "Document every step of your process, including SQL queries, Python scripts, and the assumptions you've made. This will help maintain the code, troubleshoot, and allow others to understand your methodology.\n",
      "\n",
      "By following the above steps, you can develop a robust framework for measuring time-series lift in advertising campaigns. Remember that the nuances of your specific situation (like the nature of the business, target audience, length of conversion cycles, etc.) may necessitate alterations to these general guidelines.\n"
     ]
    }
   ],
   "source": [
    "for msg in new_msgs:\n",
    "    print(msg.message)"
   ]
  },
  {
   "cell_type": "code",
   "execution_count": 10,
   "id": "07326846-ab54-4fcd-8b58-b582cc58ebf4",
   "metadata": {},
   "outputs": [
    {
     "name": "stdout",
     "output_type": "stream",
     "text": [
      "add_message(\n",
      "This is very helpful but I do not think its quite right. By\n",
      "using windows to measure conversion rates I want to only consider\n",
      "conversions that take place n days after an exposure. For example, \n",
      "if the user requests daily conversion rates using a 7 day conversion\n",
      "window then the conversion rate for exposure on a given day should only consider\n",
      "conversions that took place in the following 7 days. This enforces causality\n",
      "so that the conversion rates being used to measure lift isolate the effects\n",
      "of the advertising campaign.\n",
      "\n",
      "Can you update the instructions you provided to account for this new information?\n",
      ")\n"
     ]
    }
   ],
   "source": [
    "response = \"\"\"\n",
    "This is very helpful but I do not think its quite right. By\n",
    "using windows to measure conversion rates I want to only consider\n",
    "conversions that take place n days after an exposure. For example, \n",
    "if the user requests daily conversion rates using a 7 day conversion\n",
    "window then the conversion rate for exposure on a given day should only consider\n",
    "conversions that took place in the following 7 days. This enforces causality\n",
    "so that the conversion rates being used to measure lift isolate the effects\n",
    "of the advertising campaign.\n",
    "\n",
    "Can you update the instructions you provided to account for this new information?\n",
    "\"\"\"\n",
    "roger, prompt_msg = roger.add_message(response)"
   ]
  },
  {
   "cell_type": "code",
   "execution_count": 11,
   "id": "c576d7fa-4310-4437-8d9f-ff23c1af2a40",
   "metadata": {},
   "outputs": [
    {
     "name": "stdout",
     "output_type": "stream",
     "text": [
      "run_thread(None)\n"
     ]
    }
   ],
   "source": [
    "roger, new_msgs = roger.run_thread()"
   ]
  },
  {
   "cell_type": "code",
   "execution_count": 12,
   "id": "3c7e7c9b-cc92-4690-abeb-1be51db2dfcd",
   "metadata": {},
   "outputs": [
    {
     "name": "stdout",
     "output_type": "stream",
     "text": [
      "Of course, let's refine the time-series lift measurement process to incorporate a fixed conversion window following each exposure. When using a conversion window, you limit the count of conversions to those that occur within a specific time period following the ad exposure, which helps to more accurately attribute conversions to the ad.\n",
      "\n",
      "Here are the updated steps:\n",
      "\n",
      "### 1. Define Conversion Window\n",
      "Specify the length of the conversion window. In our example, we have a 7-day conversion window, so only conversions that occur within 7 days after the ad exposure are considered.\n",
      "\n",
      "### 2. Collect Data\n",
      "Gather the necessary data including timestamps of ad exposures, timestamps of conversions, and other relevant attributes such as user IDs and group types.\n",
      "\n",
      "### 3. Clean and Preprocess Data\n",
      "Clean the data set by handling missing values and outlier conversions that fall outside of the conversion window.\n",
      "\n",
      "### Python Example for Preprocessing:\n",
      "```python\n",
      "import pandas as pd\n",
      "\n",
      "# Assuming 'df' is our DataFrame and has been loaded as in the previous example\n",
      "\n",
      "# Filter out conversions outside of the 7-day window\n",
      "df['conversion_valid'] = ((df['conversion_time'] - df['ad_exposure_time']).dt.days <= 7) & \\\n",
      "                         ((df['conversion_time'] - df['ad_exposure_time']).dt.days >= 0)\n",
      "df = df[df['conversion_valid']]\n",
      "```\n",
      "\n",
      "### 4. Create Time Bins for Ad Exposures\n",
      "Divide the exposure time series into daily bins since we are looking at daily conversion rates. Create a DataFrame that contains time bins for the range of exposure dates.\n",
      "\n",
      "### Python Example for Time Bins:\n",
      "```python\n",
      "# Assuming that we want daily bins, we create time bins for the ad exposure times\n",
      "df['ad_exposure_day'] = df['ad_exposure_time'].dt.floor('D')\n",
      "\n",
      "# Create a DataFrame that spans the length of the campaign with daily entries\n",
      "campaign_dates = pd.date_range(start=min(df['ad_exposure_day']), end=max(df['ad_exposure_day']), freq='D')\n",
      "time_bins = pd.DataFrame(campaign_dates, columns=['ad_exposure_day'])\n",
      "```\n",
      "\n",
      "### 5. Calculate Daily Conversion Rates Within the Conversion Window\n",
      "For each day, calculate the conversion rate considering only the conversions that occur within the conversion window following the ad exposure.\n",
      "\n",
      "### Python Example for Calculating Conversion Rates Within the Conversion Window:\n",
      "```python\n",
      "# Function to calculate conversion rate for a single day\n",
      "def calculate_conversion_rate_for_day(ad_exposure_day, conversion_window):\n",
      "    # Selecting the subset of users exposed on 'ad_exposure_day'\n",
      "    exposed_users = df[df['ad_exposure_day'] == ad_exposure_day]\n",
      "    \n",
      "    # Define the end of conversion window for this exposure day\n",
      "    conversion_window_end = ad_exposure_day + pd.Timedelta(days=conversion_window)\n",
      "    \n",
      "    # Count conversions within the conversion window\n",
      "    conversions_within_window = exposed_users[\n",
      "        (exposed_users['conversion_time'] >= ad_exposure_day) & \n",
      "        (exposed_users['conversion_time'] <= conversion_window_end)\n",
      "    ]['user_id'].nunique()\n",
      "    \n",
      "    # Calculate conversion rate\n",
      "    conversion_rate = conversions_within_window / exposed_users['user_id'].nunique()\n",
      "    return conversion_rate\n",
      "\n",
      "# Apply the calculation to each day in the campaign\n",
      "conversion_window = 7  # days\n",
      "time_bins['conversion_rate'] = time_bins['ad_exposure_day'].apply(\n",
      "    lambda day: calculate_conversion_rate_for_day(day, conversion_window)\n",
      ")\n",
      "```\n",
      "\n",
      "### 6. Calculate Lift\n",
      "Having the daily conversion rates, calculate the lift by comparing the conversion rates of the target group with the control group for each day within the conversion window.\n",
      "\n",
      "### 7. Calculate Statistical Significance and Visualize\n",
      "Just like before, you should perform statistical tests to ensure the lift is significant and visualize the results over time.\n",
      "\n",
      "### Python Example for Visualization:\n",
      "```python\n",
      "import matplotlib.pyplot as plt\n",
      "\n",
      "time_bins[['conversion_rate', 'control_rate', 'target_rate']].plot(kind='line', figsize=(10,5))\n",
      "plt.title('Daily Conversion Rate with 7-Day Conversion Window')\n",
      "plt.ylabel('Conversion Rate (%)')\n",
      "plt.xlabel('Day')\n",
      "plt.show()\n",
      "```\n",
      "\n",
      "### 8. Automation and Documentation\n",
      "Automate the data processing and lift calculation, and document the code and methodologies.\n",
      "\n",
      "By considering only the conversions within a defined window after the exposure, you ensure that the lift reflects the effect of the advertising campaign while maintaining causality. The Python code should be adjusted to loop over each day of ad exposure and calculate the conversion rate for users exposed on that day only if the conversion happened within the subsequent seven days. This customizes the calculation to fit the specified timeframe for causality and makes sure the lift measurement is accurate.\n"
     ]
    }
   ],
   "source": [
    "for msg in new_msgs:\n",
    "    print(msg.message)"
   ]
  },
  {
   "cell_type": "code",
   "execution_count": 13,
   "id": "07cb688e-3234-4169-983e-61fa8f6ef3f5",
   "metadata": {},
   "outputs": [
    {
     "name": "stdout",
     "output_type": "stream",
     "text": [
      "add_message(This is very helpful thank you! \n",
      "I would like to format your recommendation so that I can store\n",
      "it to enhance future prompts to AI. Can you respond to this prompt\n",
      "by providing\n",
      "\n",
      "1. A short, concise and detailed summary of your instructions. This summary\n",
      "should be approximately ten words and will be used to determine if your instructions\n",
      "should be added to a future AI prompt. Please precede your summary with the text \"SUMMARY:\" \n",
      "so I can easily find it.\n",
      "\n",
      "2. Your best set of instructions. Please precede your instructions with the \n",
      "text \"INSTRUCTIONS:\" so I can easily find them.\n",
      "\n",
      "Thank you!\n",
      ")\n"
     ]
    }
   ],
   "source": [
    "new_response = \"\"\"This is very helpful thank you! \n",
    "I would like to format your recommendation so that I can store\n",
    "it to enhance future prompts to AI. Can you respond to this prompt\n",
    "by providing\n",
    "\n",
    "1. A short, concise and detailed summary of your instructions. This summary\n",
    "should be approximately ten words and will be used to determine if your instructions\n",
    "should be added to a future AI prompt. Please precede your summary with the text \"SUMMARY:\" \n",
    "so I can easily find it.\n",
    "\n",
    "2. Your best set of instructions. Please precede your instructions with the \n",
    "text \"INSTRUCTIONS:\" so I can easily find them.\n",
    "\n",
    "Thank you!\n",
    "\"\"\"\n",
    "roger, prompt_msg = roger.add_message(new_response)"
   ]
  },
  {
   "cell_type": "code",
   "execution_count": 14,
   "id": "e1eb63a0-e85d-4741-a22b-0d7da54c6eca",
   "metadata": {},
   "outputs": [
    {
     "name": "stdout",
     "output_type": "stream",
     "text": [
      "run_thread(None)\n"
     ]
    }
   ],
   "source": [
    "roger, new_msgs = roger.run_thread()"
   ]
  },
  {
   "cell_type": "code",
   "execution_count": 15,
   "id": "d2c4724c-0641-4df4-b0ba-17d6ef31b8a5",
   "metadata": {},
   "outputs": [
    {
     "name": "stdout",
     "output_type": "stream",
     "text": [
      "SUMMARY:\n",
      "Measure advertising time-series lift with a precise 7-day conversion window.\n",
      "\n",
      "INSTRUCTIONS:\n",
      "1. **Define the Conversion Window**: Establish a 7-day period post-ad exposure for tracking conversions.\n",
      "   \n",
      "2. **Data Collection**: Gather timestamps for ad exposures and conversions, user IDs, and group types (control or target).\n",
      "\n",
      "3. **Data Cleaning**: Use Python to preprocess the data - convert timestamps to date objects and address missing or anomalous data.\n",
      "\n",
      "   ```python\n",
      "   import pandas as pd\n",
      "\n",
      "   df['ad_exposure_time'] = pd.to_datetime(df['ad_exposure_time'])\n",
      "   df['conversion_time'] = pd.to_datetime(df['conversion_time'])\n",
      "   df = df[~df['conversion_time'].isnull()]  # Remove rows without conversions\n",
      "   ```\n",
      "\n",
      "4. **Time Bins for Ad Exposures**: Determine daily exposure time bins.\n",
      "\n",
      "   ```python\n",
      "   df['ad_exposure_day'] = df['ad_exposure_time'].dt.floor('D')\n",
      "   ```\n",
      "\n",
      "5. **Calculate Daily Conversion Rates Within the 7-Day Window**: For each ad exposure day, compute the conversion rate by only considering conversions within the 7-day window.\n",
      "\n",
      "   ```python\n",
      "   def calculate_conversion_rate_for_day(ad_exposure_day, conversion_window, df):\n",
      "       # Subset of users exposed on 'ad_exposure_day' and their conversions\n",
      "       subset = df[(df['ad_exposure_time'] >= ad_exposure_day) &\n",
      "                   (df['ad_exposure_time'] < ad_exposure_day + pd.Timedelta(days=1))]\n",
      "       subset['is_within_window'] = subset['conversion_time'] <= (ad_exposure_day + pd.Timedelta(days=conversion_window))\n",
      "\n",
      "       conversions_within_window = subset[subset['is_within_window']]['user_id'].nunique()\n",
      "       total_exposed_users = subset['user_id'].nunique()\n",
      "\n",
      "       # Protect against division by zero\n",
      "       if total_exposed_users > 0:\n",
      "           return conversions_within_window / total_exposed_users\n",
      "       else:\n",
      "           return 0\n",
      "\n",
      "   # Calculate conversion rates per day\n",
      "   time_bins = pd.DataFrame(pd.date_range(start=df['ad_exposure_time'].min(), \n",
      "                                          end=df['ad_exposure_time'].max(), freq='D'), columns=['ad_exposure_day'])\n",
      "   time_bins['daily_conversion_rate'] = time_bins['ad_exposure_day'].apply(lambda day: calculate_conversion_rate_for_day(day, 7, df))\n",
      "   ```\n",
      "\n",
      "6. **Calculate Lift**: Determine the lift by comparing the conversion rates between the control and target groups within the conversion window.\n",
      "\n",
      "   ```python\n",
      "   # Assuming 'control_rates' and 'target_rates' are series of daily conversion rates\n",
      "   lift = (target_rates - control_rates) / control_rates * 100\n",
      "   ```\n",
      "\n",
      "7. **Assess Statistical Significance**: Use statistical testing to validate the lift observed is significant, not due to chance.\n",
      "\n",
      "   ```python\n",
      "   from scipy.stats import ttest_ind\n",
      "\n",
      "   t_stat, p_value = ttest_ind(target_rates, control_rates, equal_var=False)\n",
      "   significant = p_value < 0.05\n",
      "   ```\n",
      "\n",
      "8. **Visualization**: Plot daily conversion rates and lift over time to visualize trends and impact.\n",
      "\n",
      "9. **Automate and Document**: Create a script that can be scheduled to run periodically with comprehensive documentation.\n",
      "\n",
      "By following these instructions, you can accurately measure the impact of advertising campaigns by considering a controlled conversion window to account for causality.\n"
     ]
    }
   ],
   "source": [
    "for msg in new_msgs:\n",
    "    print(msg.message)"
   ]
  },
  {
   "cell_type": "code",
   "execution_count": 16,
   "id": "1ed9ffe1-98ce-49bf-87ed-f029b28b5a98",
   "metadata": {},
   "outputs": [
    {
     "name": "stdout",
     "output_type": "stream",
     "text": [
      "add_message(Can you repeat your last response but\n",
      "generalize the summary so that instead of a specific 7 day\n",
      "window you make the instructions applicable to an n day window?\n",
      "\n",
      "Thank you!\n",
      ")\n"
     ]
    }
   ],
   "source": [
    "new_response = \"\"\"Can you repeat your last response but\n",
    "generalize the summary so that instead of a specific 7 day\n",
    "window you make the instructions applicable to an n day window?\n",
    "\n",
    "Thank you!\n",
    "\"\"\"\n",
    "roger, prompt_msg = roger.add_message(new_response)"
   ]
  },
  {
   "cell_type": "code",
   "execution_count": 17,
   "id": "fe33fe47-ddb5-43e7-a887-e79f2a92dbfe",
   "metadata": {},
   "outputs": [
    {
     "name": "stdout",
     "output_type": "stream",
     "text": [
      "run_thread(None)\n"
     ]
    }
   ],
   "source": [
    "roger, new_msgs = roger.run_thread()"
   ]
  },
  {
   "cell_type": "code",
   "execution_count": 18,
   "id": "f17a67ed-5e18-41bf-a330-7e4f81ada902",
   "metadata": {},
   "outputs": [
    {
     "name": "stdout",
     "output_type": "stream",
     "text": [
      "SUMMARY:\n",
      "Measure ad time-series lift using a variable n-day conversion window.\n",
      "\n",
      "INSTRUCTIONS:\n",
      "1. **Define the Conversion Window**: Set a flexible n-day period following ad exposure for conversion tracking.\n",
      "\n",
      "2. **Data Collection**: Collect essential data including timestamps for ad exposures, conversions, user IDs, and group allocation.\n",
      "\n",
      "3. **Data Cleaning**: Preprocess data in Python, converting timestamps to datetime and addressing missing values or outliers.\n",
      "\n",
      "   ```python\n",
      "   import pandas as pd\n",
      "\n",
      "   df['ad_exposure_time'] = pd.to_datetime(df['ad_exposure_time'])\n",
      "   df['conversion_time'] = pd.to_datetime(df['conversion_time'])\n",
      "   df = df[~df['conversion_time'].isnull()]  # Assure conversions are present\n",
      "   ```\n",
      "   \n",
      "4. **Time Bins for Ad Exposures**: Create daily bins from exposure timestamps.\n",
      "\n",
      "   ```python\n",
      "   df['ad_exposure_day'] = df['ad_exposure_time'].dt.floor('D')\n",
      "   ```\n",
      "\n",
      "5. **Calculate Daily Conversion Rates Within the n-Day Window**: Compute conversion rates for each day, only including conversions within the specified n-day window post-exposure.\n",
      "\n",
      "   ```python\n",
      "   def calculate_conversion_rate_for_day(ad_exposure_day, conversion_window, df):\n",
      "       subset = df[(df['ad_exposure_time'] >= ad_exposure_day) &\n",
      "                   (df['ad_exposure_time'] < ad_exposure_day + pd.Timedelta(days=1))]\n",
      "       subset['is_within_window'] = subset['conversion_time'] <= (ad_exposure_day + pd.Timedelta(days=conversion_window))\n",
      "       \n",
      "       conversions_within_window = subset[subset['is_within_window']]['user_id'].nunique()\n",
      "       total_exposed_users = subset['user_id'].nunique()\n",
      "       \n",
      "       if total_exposed_users > 0:\n",
      "           return conversions_within_window / total_exposed_users\n",
      "       else:\n",
      "           return 0\n",
      "\n",
      "   time_bins = pd.DataFrame(pd.date_range(start=df['ad_exposure_time'].min(), \n",
      "                                          end=df['ad_exposure_time'].max(), freq='D'), columns=['ad_exposure_day'])\n",
      "   time_bins['daily_conversion_rate'] = time_bins['ad_exposure_day'].apply(lambda day: calculate_conversion_rate_for_day(day, n, df))\n",
      "   ```\n",
      "\n",
      "6. **Calculate Lift**: Determine the percentage lift by comparing the conversion rates between control and target groups.\n",
      "\n",
      "   ```python\n",
      "   lift = (target_rates - control_rates) / control_rates * 100\n",
      "   ```\n",
      "\n",
      "7. **Statistical Significance**: Perform statistical testing to ensure the observed lift is not due to random variation.\n",
      "\n",
      "   ```python\n",
      "   from scipy.stats import ttest_ind\n",
      "\n",
      "   t_stat, p_value = ttest_ind(target_rates, control_rates, equal_var=False)\n",
      "   significant = p_value < 0.05\n",
      "   ```\n",
      "\n",
      "8. **Visualization**: Create plots of daily conversion rates and lift over time for better insight into campaign performance.\n",
      "\n",
      "9. **Automation and Documentation**: Write scripts for recurring execution and thoroughly document the methodology.\n",
      "\n",
      "These instructions adapt to any specified n-day conversion window, providing a flexible framework for accurately attributing conversions to advertising efforts and measuring temporal lift in campaigns.\n"
     ]
    }
   ],
   "source": [
    "for msg in new_msgs:\n",
    "    print(msg.message)"
   ]
  },
  {
   "cell_type": "code",
   "execution_count": null,
   "id": "c5f1541b-ab4a-4dc8-9fbc-d62b54f13501",
   "metadata": {},
   "outputs": [],
   "source": []
  }
 ],
 "metadata": {
  "kernelspec": {
   "display_name": "Python 3 (ipykernel)",
   "language": "python",
   "name": "python3"
  },
  "language_info": {
   "codemirror_mode": {
    "name": "ipython",
    "version": 3
   },
   "file_extension": ".py",
   "mimetype": "text/x-python",
   "name": "python",
   "nbconvert_exporter": "python",
   "pygments_lexer": "ipython3",
   "version": "3.9.13"
  }
 },
 "nbformat": 4,
 "nbformat_minor": 5
}
