{
 "cells": [
  {
   "cell_type": "markdown",
   "id": "86c87245-3991-40a8-aaa8-faa7b6e395b2",
   "metadata": {},
   "source": [
    "# Firebase Demo\n",
    "December 12 2023"
   ]
  },
  {
   "cell_type": "markdown",
   "id": "da88f6e7-acc1-4ca5-99bb-a47f3cd09a63",
   "metadata": {},
   "source": [
    "Initialize a Firebase project: \n",
    "```\n",
    "$ firebase init\n",
    "```"
   ]
  },
  {
   "cell_type": "code",
   "execution_count": null,
   "id": "6a52eb37-9985-4fed-8747-b2b09b1fbf49",
   "metadata": {},
   "outputs": [],
   "source": []
  },
  {
   "cell_type": "code",
   "execution_count": 1,
   "id": "8dc159eb-baa8-4864-ae7d-766383ee0804",
   "metadata": {},
   "outputs": [
    {
     "ename": "ModuleNotFoundError",
     "evalue": "No module named 'firebase_functions'",
     "output_type": "error",
     "traceback": [
      "\u001b[0;31m---------------------------------------------------------------------------\u001b[0m",
      "\u001b[0;31mModuleNotFoundError\u001b[0m                       Traceback (most recent call last)",
      "Cell \u001b[0;32mIn[1], line 2\u001b[0m\n\u001b[1;32m      1\u001b[0m \u001b[38;5;66;03m# The Cloud Functions for Firebase SDK to create Cloud Functions and set up triggers.\u001b[39;00m\n\u001b[0;32m----> 2\u001b[0m \u001b[38;5;28;01mfrom\u001b[39;00m \u001b[38;5;21;01mfirebase_functions\u001b[39;00m \u001b[38;5;28;01mimport\u001b[39;00m firestore_fn, https_fn\n\u001b[1;32m      4\u001b[0m \u001b[38;5;66;03m# The Firebase Admin SDK to access Cloud Firestore.\u001b[39;00m\n\u001b[1;32m      5\u001b[0m \u001b[38;5;28;01mfrom\u001b[39;00m \u001b[38;5;21;01mfirebase_admin\u001b[39;00m \u001b[38;5;28;01mimport\u001b[39;00m initialize_app, firestore\n",
      "\u001b[0;31mModuleNotFoundError\u001b[0m: No module named 'firebase_functions'"
     ]
    }
   ],
   "source": [
    "# The Cloud Functions for Firebase SDK to create Cloud Functions and set up triggers.\n",
    "from firebase_functions import firestore_fn, https_fn\n",
    "\n",
    "# The Firebase Admin SDK to access Cloud Firestore.\n",
    "from firebase_admin import initialize_app, firestore\n",
    "import google.cloud.firestore\n",
    "\n",
    "app = initialize_app()"
   ]
  },
  {
   "cell_type": "code",
   "execution_count": null,
   "id": "25d30dd1-0835-48cb-b32f-2e5c3a3594f1",
   "metadata": {},
   "outputs": [],
   "source": []
  }
 ],
 "metadata": {
  "kernelspec": {
   "display_name": "Python 3 (ipykernel)",
   "language": "python",
   "name": "python3"
  },
  "language_info": {
   "codemirror_mode": {
    "name": "ipython",
    "version": 3
   },
   "file_extension": ".py",
   "mimetype": "text/x-python",
   "name": "python",
   "nbconvert_exporter": "python",
   "pygments_lexer": "ipython3",
   "version": "3.9.13"
  }
 },
 "nbformat": 4,
 "nbformat_minor": 5
}
